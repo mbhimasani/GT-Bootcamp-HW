{
 "cells": [
  {
   "cell_type": "code",
   "execution_count": 35,
   "metadata": {},
   "outputs": [],
   "source": [
    "from bs4 import BeautifulSoup as bs\n",
    "import requests\n",
    "from splinter import Browser\n",
    "import os\n",
    "import pandas as pd\n",
    "import time\n",
    "from selenium import webdriver"
   ]
  },
  {
   "cell_type": "code",
   "execution_count": null,
   "metadata": {
    "scrolled": true
   },
   "outputs": [],
   "source": [
    "#executable_path = {'executable_path':'chromedriver.exe'}\n",
    "#browser = Browser('chrome', **executable_path, headless=False)"
   ]
  },
  {
   "cell_type": "code",
   "execution_count": 37,
   "metadata": {},
   "outputs": [],
   "source": [
    "url = \"https://mars.nasa.gov/news/\"\n",
    "driver = webdriver.Chrome()\n",
    "driver.get(url)\n",
    "soup = bs(driver.page_source, 'html.parser')"
   ]
  },
  {
   "cell_type": "code",
   "execution_count": 41,
   "metadata": {},
   "outputs": [
    {
     "name": "stdout",
     "output_type": "stream",
     "text": [
      "<div class=\"list_text\"><div class=\"list_date\">November 16, 2018</div><div class=\"content_title\"><a href=\"/news/8386/nasa-to-host-media-call-on-next-mars-landing-site/\" target=\"_self\">NASA to Host Media Call on Next Mars Landing Site</a></div><div class=\"article_teaser_body\">NASA will host a media teleconference at 9 a.m. PST (noon EST) Monday, Nov. 19, to provide details about the Mars 2020 rover’s landing site on the Red Planet.</div></div>\n"
     ]
    }
   ],
   "source": [
    "list = soup.find('div', class_='list_text')\n",
    "print(list)"
   ]
  },
  {
   "cell_type": "code",
   "execution_count": 44,
   "metadata": {},
   "outputs": [
    {
     "name": "stdout",
     "output_type": "stream",
     "text": [
      "NASA to Host Media Call on Next Mars Landing Site\n",
      "NASA will host a media teleconference at 9 a.m. PST (noon EST) Monday, Nov. 19, to provide details about the Mars 2020 rover’s landing site on the Red Planet.\n"
     ]
    }
   ],
   "source": [
    "news_title = list.find('div', class_='content_title').text\n",
    "news_p = list.find('div', class_='article_teaser_body').text\n",
    "print(news_title)\n",
    "print(news_p)"
   ]
  },
  {
   "cell_type": "code",
   "execution_count": 60,
   "metadata": {},
   "outputs": [],
   "source": [
    "imageurl = \"https://www.jpl.nasa.gov/spaceimages/?search=&category=Mars\"\n",
    "driver = webdriver.Chrome()\n",
    "driver.get(imageurl)\n",
    "soup = bs(driver.page_source, 'html.parser')"
   ]
  },
  {
   "cell_type": "code",
   "execution_count": 61,
   "metadata": {},
   "outputs": [
    {
     "name": "stdout",
     "output_type": "stream",
     "text": [
      "<article alt=\"The Day the Earth Smiled: Sneak Preview\" class=\"carousel_item\" style=\"background-image: url('/spaceimages/images/wallpaper/PIA17171-1920x1200.jpg');\">\n",
      "<div class=\"default floating_text_area ms-layer\">\n",
      "<h2 class=\"category_title\">\n",
      "</h2>\n",
      "<h2 class=\"brand_title\">\n",
      "\t\t\t\t  FEATURED IMAGE\n",
      "\t\t\t\t</h2>\n",
      "<h1 class=\"media_feature_title\">\n",
      "\t\t\t\t  The Day the Earth Smiled: Sneak Preview\t\t\t\t</h1>\n",
      "<div class=\"description\">\n",
      "</div>\n",
      "<footer>\n",
      "<a class=\"button fancybox\" data-description=\"In this rare image taken on July 19, 2013, the wide-angle camera on NASA's Cassini spacecraft has captured Saturn's rings and our planet Earth and its moon in the same frame.\" data-fancybox-group=\"images\" data-fancybox-href=\"/spaceimages/images/mediumsize/PIA17171_ip.jpg\" data-link=\"/spaceimages/details.php?id=PIA17171\" data-title=\"The Day the Earth Smiled: Sneak Preview\" id=\"full_image\">\n",
      "\t\t\t\t\tFULL IMAGE\n",
      "\t\t\t\t  </a>\n",
      "</footer>\n",
      "</div>\n",
      "<div class=\"gradient_container_top\"></div>\n",
      "<div class=\"gradient_container_bottom\"></div>\n",
      "</article>\n"
     ]
    }
   ],
   "source": [
    "article = soup.find('article', class_='carousel_item')\n",
    "print(article)"
   ]
  },
  {
   "cell_type": "code",
   "execution_count": 71,
   "metadata": {},
   "outputs": [
    {
     "name": "stdout",
     "output_type": "stream",
     "text": [
      "<a class=\"button fancybox\" data-description=\"In this rare image taken on July 19, 2013, the wide-angle camera on NASA's Cassini spacecraft has captured Saturn's rings and our planet Earth and its moon in the same frame.\" data-fancybox-group=\"images\" data-fancybox-href=\"/spaceimages/images/mediumsize/PIA17171_ip.jpg\" data-link=\"/spaceimages/details.php?id=PIA17171\" data-title=\"The Day the Earth Smiled: Sneak Preview\" id=\"full_image\">\n",
      "\t\t\t\t\tFULL IMAGE\n",
      "\t\t\t\t  </a>\n"
     ]
    }
   ],
   "source": [
    "a = article.find('a')\n",
    "print(a)"
   ]
  },
  {
   "cell_type": "code",
   "execution_count": 73,
   "metadata": {},
   "outputs": [
    {
     "name": "stdout",
     "output_type": "stream",
     "text": [
      "/spaceimages/images/mediumsize/PIA17171_ip.jpg\n",
      "https://www.jpl.nasa.gov/spaceimages/images/mediumsize/PIA17171_ip.jpg\n"
     ]
    }
   ],
   "source": [
    "featured_image_url_extension = a[\"data-fancybox-href\"]\n",
    "print(featured_image_url_extension)\n",
    "\n",
    "featured_image_url = (\"https://www.jpl.nasa.gov\"+featured_image_url_extension)\n",
    "print(featured_image_url)"
   ]
  },
  {
   "cell_type": "code",
   "execution_count": 77,
   "metadata": {},
   "outputs": [],
   "source": [
    "tweeturl = \"https://twitter.com/marswxreport?lang=en\"\n",
    "driver = webdriver.Chrome()\n",
    "driver.get(tweeturl)\n",
    "soup = bs(driver.page_source, 'html.parser')"
   ]
  },
  {
   "cell_type": "code",
   "execution_count": 78,
   "metadata": {},
   "outputs": [
    {
     "name": "stdout",
     "output_type": "stream",
     "text": [
      "<div class=\"js-tweet-text-container\">\n",
      "<p class=\"TweetTextSize TweetTextSize--normal js-tweet-text tweet-text\" data-aria-label-part=\"0\" lang=\"en\">Sol 2230 (2018-11-14), high -5C/23F, low -72C/-97F, pressure at 8.59 hPa, daylight 06:22-18:39</p>\n",
      "</div>\n"
     ]
    }
   ],
   "source": [
    "latest_tweet = soup.find('div', class_='js-tweet-text-container')\n",
    "print(latest_tweet)"
   ]
  },
  {
   "cell_type": "code",
   "execution_count": 79,
   "metadata": {},
   "outputs": [
    {
     "name": "stdout",
     "output_type": "stream",
     "text": [
      "Sol 2230 (2018-11-14), high -5C/23F, low -72C/-97F, pressure at 8.59 hPa, daylight 06:22-18:39\n"
     ]
    }
   ],
   "source": [
    "mars_weather = latest_tweet.find('p').text\n",
    "print(mars_weather)"
   ]
  },
  {
   "cell_type": "code",
   "execution_count": null,
   "metadata": {},
   "outputs": [],
   "source": []
  }
 ],
 "metadata": {
  "kernelspec": {
   "display_name": "Python 3",
   "language": "python",
   "name": "python3"
  },
  "language_info": {
   "codemirror_mode": {
    "name": "ipython",
    "version": 3
   },
   "file_extension": ".py",
   "mimetype": "text/x-python",
   "name": "python",
   "nbconvert_exporter": "python",
   "pygments_lexer": "ipython3",
   "version": "3.7.0"
  }
 },
 "nbformat": 4,
 "nbformat_minor": 2
}
